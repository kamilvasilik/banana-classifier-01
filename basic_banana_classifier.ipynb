{
 "cells": [
  {
   "cell_type": "code",
   "execution_count": 1,
   "metadata": {},
   "outputs": [],
   "source": [
    "import os\n",
    "import numpy as np\n",
    "import pandas as pd\n",
    "import matplotlib.pyplot as plt\n",
    "import cv2\n",
    "import keras\n",
    "from keras.preprocessing.image import ImageDataGenerator\n",
    "from keras.models import Sequential\n",
    "from keras.layers import Dense, Activation, Conv2D, Flatten, Dropout, MaxPooling2D\n",
    "from keras.callbacks import ModelCheckpoint"
   ]
  },
  {
   "cell_type": "code",
   "execution_count": 2,
   "metadata": {},
   "outputs": [],
   "source": [
    "keras.backend.clear_session()"
   ]
  },
  {
   "cell_type": "code",
   "execution_count": 3,
   "metadata": {},
   "outputs": [
    {
     "name": "stdout",
     "output_type": "stream",
     "text": [
      "total 4\n",
      "drwxr-xr-x 1 Kamilko 197121 0 Jul 16 10:09 check\n",
      "drwxr-xr-x 1 Kamilko 197121 0 Jul 15 14:29 test\n",
      "drwxr-xr-x 1 Kamilko 197121 0 Jul 15 14:29 train\n",
      "drwxr-xr-x 1 Kamilko 197121 0 Jul 17 11:16 valid\n"
     ]
    },
    {
     "name": "stderr",
     "output_type": "stream",
     "text": [
      "The system cannot find the path specified.\n"
     ]
    }
   ],
   "source": [
    "!ls -l Data/"
   ]
  },
  {
   "cell_type": "code",
   "execution_count": 4,
   "metadata": {},
   "outputs": [
    {
     "name": "stdout",
     "output_type": "stream",
     "text": [
      "Found 1600 images belonging to 2 classes.\n",
      "Found 428 images belonging to 2 classes.\n",
      "Found 160 images belonging to 2 classes.\n"
     ]
    }
   ],
   "source": [
    "train_data_gen = ImageDataGenerator(rescale=1./255, \n",
    "                                    shear_range=0.2, \n",
    "                                    zoom_range=0.2, \n",
    "                                    horizontal_flip=True)\n",
    "valid_data_gen = ImageDataGenerator(rescale=1./255, \n",
    "                                    shear_range=0.2, \n",
    "                                    zoom_range=0.2, \n",
    "                                    horizontal_flip=True)\n",
    "test_data_gen = ImageDataGenerator(rescale=1./255)\n",
    "\n",
    "train_generator = train_data_gen.flow_from_directory('Data/train', \n",
    "                                                     target_size=(299, 299), \n",
    "                                                     batch_size=32, \n",
    "                                                     class_mode='binary')\n",
    "valid_generator = valid_data_gen.flow_from_directory('Data/valid', \n",
    "                                                     target_size=(299,299), \n",
    "                                                     batch_size=32, \n",
    "                                                     class_mode='binary')\n",
    "test_generator = test_data_gen.flow_from_directory('Data/test', \n",
    "                                                   target_size=(299,299), \n",
    "                                                   batch_size=32, \n",
    "                                                   class_mode='binary')"
   ]
  },
  {
   "cell_type": "code",
   "execution_count": 5,
   "metadata": {},
   "outputs": [
    {
     "name": "stdout",
     "output_type": "stream",
     "text": [
      "{'banana': 0, 'not-banana': 1}\n",
      "{'banana': 0, 'not-banana': 1}\n",
      "{'banana': 0, 'not-banana': 1}\n"
     ]
    }
   ],
   "source": [
    "print(train_generator.class_indices)\n",
    "print(valid_generator.class_indices)\n",
    "print(test_generator.class_indices)"
   ]
  },
  {
   "cell_type": "code",
   "execution_count": 6,
   "metadata": {},
   "outputs": [],
   "source": [
    "train_steps = train_generator.n // train_generator.batch_size\n",
    "valid_steps = valid_generator.n // valid_generator.batch_size\n",
    "test_steps = test_generator.n // test_generator.batch_size"
   ]
  },
  {
   "cell_type": "code",
   "execution_count": 7,
   "metadata": {},
   "outputs": [],
   "source": [
    "checkpointer = ModelCheckpoint(filepath='Checkpoint/weigths.hdf5', verbose=1,save_best_only=True)"
   ]
  },
  {
   "cell_type": "markdown",
   "metadata": {},
   "source": [
    "## Define model"
   ]
  },
  {
   "cell_type": "code",
   "execution_count": 8,
   "metadata": {},
   "outputs": [],
   "source": [
    "model = Sequential()\n",
    "model.add(Conv2D(32, (3,3), activation='relu', input_shape=(299,299,3), padding='same'))\n",
    "model.add(Conv2D(32, (3,3), activation='relu', padding='same'))\n",
    "model.add(MaxPooling2D(pool_size=(3,3)))\n",
    "model.add(Dropout(0.25))\n",
    "\n",
    "model.add(Conv2D(64, (3,3), activation='relu', padding='same'))\n",
    "model.add(Conv2D(64, (3,3), activation='relu', padding='same'))\n",
    "model.add(MaxPooling2D(pool_size=(2,2)))\n",
    "model.add(Dropout(0.5))\n",
    "\n",
    "model.add(Flatten())\n",
    "model.add(Dense(512, activation='relu'))\n",
    "model.add(Dropout(0.5))\n",
    "model.add(Dense(256, activation='relu'))\n",
    "model.add(Dropout(0.5))\n",
    "model.add(Dense(1, activation='sigmoid'))"
   ]
  },
  {
   "cell_type": "code",
   "execution_count": 9,
   "metadata": {},
   "outputs": [
    {
     "name": "stdout",
     "output_type": "stream",
     "text": [
      "Model: \"sequential\"\n",
      "_________________________________________________________________\n",
      "Layer (type)                 Output Shape              Param #   \n",
      "=================================================================\n",
      "conv2d (Conv2D)              (None, 299, 299, 32)      896       \n",
      "_________________________________________________________________\n",
      "conv2d_1 (Conv2D)            (None, 299, 299, 32)      9248      \n",
      "_________________________________________________________________\n",
      "max_pooling2d (MaxPooling2D) (None, 99, 99, 32)        0         \n",
      "_________________________________________________________________\n",
      "dropout (Dropout)            (None, 99, 99, 32)        0         \n",
      "_________________________________________________________________\n",
      "conv2d_2 (Conv2D)            (None, 99, 99, 64)        18496     \n",
      "_________________________________________________________________\n",
      "conv2d_3 (Conv2D)            (None, 99, 99, 64)        36928     \n",
      "_________________________________________________________________\n",
      "max_pooling2d_1 (MaxPooling2 (None, 49, 49, 64)        0         \n",
      "_________________________________________________________________\n",
      "dropout_1 (Dropout)          (None, 49, 49, 64)        0         \n",
      "_________________________________________________________________\n",
      "flatten (Flatten)            (None, 153664)            0         \n",
      "_________________________________________________________________\n",
      "dense (Dense)                (None, 512)               78676480  \n",
      "_________________________________________________________________\n",
      "dropout_2 (Dropout)          (None, 512)               0         \n",
      "_________________________________________________________________\n",
      "dense_1 (Dense)              (None, 256)               131328    \n",
      "_________________________________________________________________\n",
      "dropout_3 (Dropout)          (None, 256)               0         \n",
      "_________________________________________________________________\n",
      "dense_2 (Dense)              (None, 1)                 257       \n",
      "=================================================================\n",
      "Total params: 78,873,633\n",
      "Trainable params: 78,873,633\n",
      "Non-trainable params: 0\n",
      "_________________________________________________________________\n"
     ]
    }
   ],
   "source": [
    "model.summary()"
   ]
  },
  {
   "cell_type": "code",
   "execution_count": 10,
   "metadata": {},
   "outputs": [],
   "source": [
    "model.compile(loss='binary_crossentropy', optimizer='adam', metrics=['binary_accuracy'])"
   ]
  },
  {
   "cell_type": "code",
   "execution_count": 11,
   "metadata": {},
   "outputs": [
    {
     "name": "stdout",
     "output_type": "stream",
     "text": [
      "Epoch 1/10\n",
      "50/50 [==============================] - ETA: 0s - loss: 0.6927 - binary_accuracy: 0.6862\n",
      "Epoch 00001: val_loss improved from inf to 0.54941, saving model to Checkpoint/weigths.hdf5\n",
      "50/50 [==============================] - 412s 8s/step - loss: 0.6927 - binary_accuracy: 0.6862 - val_loss: 0.5494 - val_binary_accuracy: 0.7452\n",
      "Epoch 2/10\n",
      "50/50 [==============================] - ETA: 0s - loss: 0.5108 - binary_accuracy: 0.7744\n",
      "Epoch 00002: val_loss improved from 0.54941 to 0.47895, saving model to Checkpoint/weigths.hdf5\n",
      "50/50 [==============================] - 401s 8s/step - loss: 0.5108 - binary_accuracy: 0.7744 - val_loss: 0.4790 - val_binary_accuracy: 0.7692\n",
      "Epoch 3/10\n",
      "50/50 [==============================] - ETA: 0s - loss: 0.4962 - binary_accuracy: 0.7944\n",
      "Epoch 00003: val_loss improved from 0.47895 to 0.45412, saving model to Checkpoint/weigths.hdf5\n",
      "50/50 [==============================] - 426s 9s/step - loss: 0.4962 - binary_accuracy: 0.7944 - val_loss: 0.4541 - val_binary_accuracy: 0.7837\n",
      "Epoch 4/10\n",
      "50/50 [==============================] - ETA: 0s - loss: 0.4756 - binary_accuracy: 0.8075\n",
      "Epoch 00004: val_loss improved from 0.45412 to 0.44297, saving model to Checkpoint/weigths.hdf5\n",
      "50/50 [==============================] - 406s 8s/step - loss: 0.4756 - binary_accuracy: 0.8075 - val_loss: 0.4430 - val_binary_accuracy: 0.7812\n",
      "Epoch 5/10\n",
      "50/50 [==============================] - ETA: 0s - loss: 0.4825 - binary_accuracy: 0.8019\n",
      "Epoch 00005: val_loss improved from 0.44297 to 0.43631, saving model to Checkpoint/weigths.hdf5\n",
      "50/50 [==============================] - 402s 8s/step - loss: 0.4825 - binary_accuracy: 0.8019 - val_loss: 0.4363 - val_binary_accuracy: 0.7933\n",
      "Epoch 6/10\n",
      "50/50 [==============================] - ETA: 0s - loss: 0.4562 - binary_accuracy: 0.8094\n",
      "Epoch 00006: val_loss improved from 0.43631 to 0.41929, saving model to Checkpoint/weigths.hdf5\n",
      "50/50 [==============================] - 398s 8s/step - loss: 0.4562 - binary_accuracy: 0.8094 - val_loss: 0.4193 - val_binary_accuracy: 0.8173\n",
      "Epoch 7/10\n",
      "50/50 [==============================] - ETA: 0s - loss: 0.4569 - binary_accuracy: 0.8138\n",
      "Epoch 00007: val_loss did not improve from 0.41929\n",
      "50/50 [==============================] - 394s 8s/step - loss: 0.4569 - binary_accuracy: 0.8138 - val_loss: 0.4436 - val_binary_accuracy: 0.7812\n",
      "Epoch 8/10\n",
      "50/50 [==============================] - ETA: 0s - loss: 0.4480 - binary_accuracy: 0.8156\n",
      "Epoch 00008: val_loss improved from 0.41929 to 0.41358, saving model to Checkpoint/weigths.hdf5\n",
      "50/50 [==============================] - 393s 8s/step - loss: 0.4480 - binary_accuracy: 0.8156 - val_loss: 0.4136 - val_binary_accuracy: 0.8101\n",
      "Epoch 9/10\n",
      "50/50 [==============================] - ETA: 0s - loss: 0.4429 - binary_accuracy: 0.8194\n",
      "Epoch 00009: val_loss did not improve from 0.41358\n",
      "50/50 [==============================] - 392s 8s/step - loss: 0.4429 - binary_accuracy: 0.8194 - val_loss: 0.4393 - val_binary_accuracy: 0.7837\n",
      "Epoch 10/10\n",
      "50/50 [==============================] - ETA: 0s - loss: 0.4101 - binary_accuracy: 0.8281\n",
      "Epoch 00010: val_loss improved from 0.41358 to 0.41044, saving model to Checkpoint/weigths.hdf5\n",
      "50/50 [==============================] - 391s 8s/step - loss: 0.4101 - binary_accuracy: 0.8281 - val_loss: 0.4104 - val_binary_accuracy: 0.8077\n"
     ]
    }
   ],
   "source": [
    "history = model.fit(train_generator, \n",
    "                    steps_per_epoch=train_steps,\n",
    "                    epochs=10, \n",
    "                    validation_data=valid_generator, \n",
    "                    validation_steps=valid_steps, \n",
    "                    verbose=1, \n",
    "                    callbacks=[checkpointer])"
   ]
  },
  {
   "cell_type": "code",
   "execution_count": 12,
   "metadata": {},
   "outputs": [
    {
     "name": "stdout",
     "output_type": "stream",
     "text": [
      "total 924372"
     ]
    },
    {
     "name": "stderr",
     "output_type": "stream",
     "text": [
      "The system cannot find the path specified.\n"
     ]
    },
    {
     "name": "stdout",
     "output_type": "stream",
     "text": [
      "\n",
      "-rw-r--r-- 1 Kamilko 197121 946554400 Jul 17 13:47 weigths.hdf5\n"
     ]
    }
   ],
   "source": [
    "!ls -l Checkpoint/"
   ]
  },
  {
   "cell_type": "code",
   "execution_count": 13,
   "metadata": {},
   "outputs": [],
   "source": [
    "model.load_weights('./Checkpoint/weigths.hdf5')"
   ]
  },
  {
   "cell_type": "code",
   "execution_count": 14,
   "metadata": {},
   "outputs": [
    {
     "name": "stdout",
     "output_type": "stream",
     "text": [
      "5/5 [==============================] - 7s 1s/step - loss: 0.4404 - binary_accuracy: 0.7937\n"
     ]
    },
    {
     "data": {
      "text/plain": [
       "[0.44041094183921814, 0.793749988079071]"
      ]
     },
     "execution_count": 14,
     "metadata": {},
     "output_type": "execute_result"
    }
   ],
   "source": [
    "model.evaluate(test_generator, verbose=1, steps=test_steps)"
   ]
  },
  {
   "cell_type": "code",
   "execution_count": 15,
   "metadata": {},
   "outputs": [
    {
     "data": {
      "image/png": "[encoded data removed]",
      "text/plain": [
       "<Figure size 432x288 with 1 Axes>"
      ]
     },
     "metadata": {
      "needs_background": "light"
     },
     "output_type": "display_data"
    }
   ],
   "source": [
    "# history of accuracy\n",
    "plt.plot(history.history['binary_accuracy'])\n",
    "plt.plot(history.history['val_binary_accuracy'])\n",
    "plt.title('model accuracy')\n",
    "plt.xlabel('epoch')\n",
    "plt.ylabel('accuracy')\n",
    "plt.legend(['train', 'validation'], loc='upper left')\n",
    "plt.show()"
   ]
  },
  {
   "cell_type": "code",
   "execution_count": 16,
   "metadata": {},
   "outputs": [
    {
     "data": {
      "image/png": "[encoded data removed]",
      "text/plain": [
       "<Figure size 432x288 with 1 Axes>"
      ]
     },
     "metadata": {
      "needs_background": "light"
     },
     "output_type": "display_data"
    }
   ],
   "source": [
    "# history of loss\n",
    "plt.plot(history.history['loss'] )\n",
    "plt.plot(history.history['val_loss'])\n",
    "plt.title('model loss')\n",
    "plt.ylabel('loss')\n",
    "plt.xlabel('epoch')\n",
    "plt.legend(['train', 'val'], loc='upper left')\n",
    "plt.show()"
   ]
  },
  {
   "cell_type": "code",
   "execution_count": null,
   "metadata": {},
   "outputs": [],
   "source": []
  },
  {
   "cell_type": "code",
   "execution_count": null,
   "metadata": {},
   "outputs": [],
   "source": []
  }
 ],
 "metadata": {
  "kernelspec": {
   "display_name": "Python 3",
   "language": "python",
   "name": "python3"
  },
  "language_info": {
   "codemirror_mode": {
    "name": "ipython",
    "version": 3
   },
   "file_extension": ".py",
   "mimetype": "text/x-python",
   "name": "python",
   "nbconvert_exporter": "python",
   "pygments_lexer": "ipython3",
   "version": "3.8.3"
  }
 },
 "nbformat": 4,
 "nbformat_minor": 4
}
